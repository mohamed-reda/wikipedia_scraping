{
 "cells": [
  {
   "cell_type": "code",
   "execution_count": 1,
   "metadata": {},
   "outputs": [],
   "source": [
    "import requests"
   ]
  },
  {
   "cell_type": "code",
   "execution_count": 2,
   "metadata": {
    "jupyter": {
     "source_hidden": true
    },
    "pycharm": {
     "name": "#%%\n"
    }
   },
   "outputs": [],
   "source": [
    "# Import packages\n",
    "\n",
    "# import requests\n",
    "from bs4 import BeautifulSoup\n",
    "import pandas as pd"
   ]
  },
  {
   "cell_type": "code",
   "execution_count": 4,
   "metadata": {
    "jupyter": {
     "source_hidden": true
    }
   },
   "outputs": [],
   "source": [
    "# Download and parse the HTML\n",
    "\n",
    "start_url = 'https://en.wikipedia.org/wiki/Tesla,_Inc.'\n",
    "\n",
    "# Download the HTML from start_url\n",
    "downloaded_html = requests.get(start_url)\n",
    "\n",
    "# Parse the HTML with BeautifulSoup and create a soup object\n",
    "soup = BeautifulSoup(downloaded_html.text)\n",
    "\n"
   ]
  },
  {
   "cell_type": "code",
   "execution_count": 7,
   "metadata": {},
   "outputs": [],
   "source": [
    "# Save a local copy\n",
    "with open('downloaded.html', 'w',encoding='utf-8') as file:\n",
    "    # Depending on the HTML page, on the next line, you may have to use soup.prettify().encode('UTF-8')\n",
    "    file.write(soup.prettify())"
   ]
  },
  {
   "cell_type": "code",
   "execution_count": 8,
   "metadata": {
    "jupyter": {
     "outputs_hidden": true,
     "source_hidden": true
    }
   },
   "outputs": [
    {
     "name": "stdout",
     "output_type": "stream",
     "text": [
      "<tbody><tr>\n",
      "<th>Opened\n",
      "</th>\n",
      "<th>Name\n",
      "</th>\n",
      "<th>City\n",
      "</th>\n",
      "<th>Country\n",
      "</th>\n",
      "<th>Employees\n",
      "</th>\n",
      "<th>Products\n",
      "</th>\n",
      "<th class=\"unsortable\"><abbr title=\"Reference(s)\">Ref.</abbr>\n",
      "</th></tr>\n",
      "<tr>\n",
      "<td>2010\n",
      "</td>\n",
      "<td><a href=\"/wiki/Tesla_Fremont_Factory\" title=\"Tesla Fremont Factory\">Tesla Fremont Factory</a>\n",
      "</td>\n",
      "<td><a href=\"/wiki/Fremont,_California\" title=\"Fremont, California\">Fremont, California</a>\n",
      "</td>\n",
      "<td>United States\n",
      "</td>\n",
      "<td>22,000\n",
      "</td>\n",
      "<td><a href=\"/wiki/Tesla_Model_S\" title=\"Tesla Model S\">Model S</a>, <a href=\"/wiki/Tesla_Model_X\" title=\"Tesla Model X\">Model X</a>, <a href=\"/wiki/Tesla_Model_3\" title=\"Tesla Model 3\">Model 3</a>, <a href=\"/wiki/Tesla_Model_Y\" title=\"Tesla Model Y\">Model Y</a>\n",
      "</td>\n",
      "<td><sup class=\"reference\" id=\"cite_ref-Future_32-1\"><a href=\"#cite_note-Future-32\">[31]</a></sup><sup class=\"reference\" id=\"cite_ref-TC_staff_2020_222-0\"><a href=\"#cite_note-TC_staff_2020-222\">[221]</a></sup><sup class=\"reference\" id=\"cite_ref-223\"><a href=\"#cite_note-223\">[222]</a></sup>\n",
      "</td></tr>\n",
      "<tr>\n",
      "<td>2016\n",
      "</td>\n",
      "<td><a href=\"/wiki/Gigafactory_Nevada\" title=\"Gigafactory Nevada\">Gigafactory Nevada</a>\n",
      "</td>\n",
      "<td><a href=\"/wiki/Storey_County,_Nevada\" title=\"Storey County, Nevada\">Storey County, Nevada</a>\n",
      "</td>\n",
      "<td>United States\n",
      "</td>\n",
      "<td>7,000\n",
      "</td>\n",
      "<td>Batteries, <a href=\"/wiki/Tesla_Powerwall\" title=\"Tesla Powerwall\">Powerwall</a>, <a href=\"/wiki/Tesla_Semi\" title=\"Tesla Semi\">Semi</a>\n",
      "</td>\n",
      "<td><sup class=\"reference\" id=\"cite_ref-Powerwall_224-0\"><a href=\"#cite_note-Powerwall-224\">[223]</a></sup><sup class=\"reference\" id=\"cite_ref-usatoday_giganevada_2019_225-0\"><a href=\"#cite_note-usatoday_giganevada_2019-225\">[224]</a></sup><sup class=\"reference\" id=\"cite_ref-226\"><a href=\"#cite_note-226\">[225]</a></sup>\n",
      "</td></tr>\n",
      "<tr>\n",
      "<td>2017\n",
      "</td>\n",
      "<td><a href=\"/wiki/Gigafactory_New_York\" title=\"Gigafactory New York\">Gigafactory New York</a>\n",
      "</td>\n",
      "<td><a href=\"/wiki/Buffalo,_New_York\" title=\"Buffalo, New York\">Buffalo, New York</a>\n",
      "</td>\n",
      "<td>United States\n",
      "</td>\n",
      "<td>1,500\n",
      "</td>\n",
      "<td><a class=\"mw-redirect\" href=\"/wiki/Tesla_Solar_Roof\" title=\"Tesla Solar Roof\">Solar Roof</a>, <a href=\"/wiki/Tesla_Supercharger\" title=\"Tesla Supercharger\">Supercharger</a>\n",
      "</td>\n",
      "<td><sup class=\"reference\" id=\"cite_ref-UpAndRunning_227-0\"><a href=\"#cite_note-UpAndRunning-227\">[226]</a></sup><sup class=\"reference\" id=\"cite_ref-CT_giga2_2020_228-0\"><a href=\"#cite_note-CT_giga2_2020-228\">[227]</a></sup>\n",
      "</td></tr>\n",
      "<tr>\n",
      "<td>2019\n",
      "</td>\n",
      "<td><a href=\"/wiki/Gigafactory_Shanghai\" title=\"Gigafactory Shanghai\">Gigafactory Shanghai</a>\n",
      "</td>\n",
      "<td><a href=\"/wiki/Shanghai\" title=\"Shanghai\">Shanghai</a>\n",
      "</td>\n",
      "<td>China\n",
      "</td>\n",
      "<td>20,000\n",
      "</td>\n",
      "<td>Model 3, Model Y, Supercharger\n",
      "</td>\n",
      "<td><sup class=\"reference\" id=\"cite_ref-cnbc20191023_229-0\"><a href=\"#cite_note-cnbc20191023-229\">[228]</a></sup><sup class=\"reference\" id=\"cite_ref-230\"><a href=\"#cite_note-230\">[229]</a></sup>\n",
      "</td></tr>\n",
      "<tr>\n",
      "<td>2022\n",
      "</td>\n",
      "<td><a href=\"/wiki/Gigafactory_Berlin-Brandenburg\" title=\"Gigafactory Berlin-Brandenburg\">Gigafactory Berlin-Brandenburg</a>\n",
      "</td>\n",
      "<td><a href=\"/wiki/Gr%C3%BCnheide_(Mark)\" title=\"Grünheide (Mark)\">Grünheide</a>\n",
      "</td>\n",
      "<td>Germany\n",
      "</td>\n",
      "<td>10,000\n",
      "</td>\n",
      "<td>Model Y <i>(planned: batteries, Model 3)</i>\n",
      "</td>\n",
      "<td><sup class=\"reference\" id=\"cite_ref-231\"><a href=\"#cite_note-231\">[230]</a></sup><sup class=\"reference\" id=\"cite_ref-232\"><a href=\"#cite_note-232\">[231]</a></sup><sup class=\"reference\" id=\"cite_ref-IEVS_berlin_2021_233-0\"><a href=\"#cite_note-IEVS_berlin_2021-233\">[232]</a></sup>\n",
      "</td></tr>\n",
      "<tr>\n",
      "<td>2022\n",
      "</td>\n",
      "<td><a href=\"/wiki/Gigafactory_Texas\" title=\"Gigafactory Texas\">Gigafactory Texas</a>\n",
      "</td>\n",
      "<td><a href=\"/wiki/Austin,_Texas\" title=\"Austin, Texas\">Austin, Texas</a>\n",
      "</td>\n",
      "<td>United States\n",
      "</td>\n",
      "<td>12,000\n",
      "</td>\n",
      "<td><a href=\"/wiki/Tesla_Cybertruck\" title=\"Tesla Cybertruck\">Cybertruck</a>, Model Y <i>(planned: batteries, <a href=\"/wiki/Tesla_next-generation_vehicle\" title=\"Tesla next-generation vehicle\">Next-gen vehicle</a>)</i>\n",
      "</td>\n",
      "<td><sup class=\"reference\" id=\"cite_ref-234\"><a href=\"#cite_note-234\">[233]</a></sup><sup class=\"reference\" id=\"cite_ref-Vorrath_235-0\"><a href=\"#cite_note-Vorrath-235\">[234]</a></sup><sup class=\"reference\" id=\"cite_ref-236\"><a href=\"#cite_note-236\">[235]</a></sup>\n",
      "</td></tr></tbody>\n"
     ]
    }
   ],
   "source": [
    "# Select table.wikitable\n",
    "\n",
    "full_table = soup.select('table.wikitable tbody')[0]\n",
    "print(full_table)\n"
   ]
  },
  {
   "cell_type": "code",
   "execution_count": 14,
   "metadata": {
    "jupyter": {
     "outputs_hidden": true,
     "source_hidden": true
    },
    "scrolled": true
   },
   "outputs": [
    {
     "name": "stdout",
     "output_type": "stream",
     "text": [
      "[<th>Opened\n",
      "</th>, <th>Name\n",
      "</th>, <th>City\n",
      "</th>, <th>Country\n",
      "</th>, <th>Employees\n",
      "</th>, <th>Products\n",
      "</th>, <th class=\"unsortable\"><abbr title=\"Reference(s)\">Ref.</abbr>\n",
      "</th>]\n",
      "<class 'bs4.element.ResultSet'>\n",
      "-----------\n",
      "Opened\n",
      "\n",
      "Name\n",
      "\n",
      "City\n",
      "\n",
      "Country\n",
      "\n",
      "Employees\n",
      "\n",
      "Products\n",
      "\n",
      "Ref.\n",
      "\n"
     ]
    }
   ],
   "source": [
    "# Extract the table column headings\n",
    "# End result: A list with all the column headings\n",
    "\n",
    "table_head = full_table.select('tr th')\n",
    "\n",
    "print(table_head)\n",
    "print(type(table_head))\n",
    "print('-----------')\n",
    "for element in table_head:\n",
    "    print(element.text)"
   ]
  },
  {
   "cell_type": "code",
   "execution_count": 29,
   "metadata": {
    "pycharm": {
     "name": "#%%\n"
    }
   },
   "outputs": [
    {
     "name": "stdout",
     "output_type": "stream",
     "text": [
      "['Opened', 'Name', 'City', 'Country', 'Employees', 'Products', 'Ref.']\n"
     ]
    }
   ],
   "source": [
    "# Extract the table column headings\n",
    "# End result: A list with all the column headings\n",
    "\n",
    "import re\n",
    "regex = re.compile('_\\[\\w\\]')\n",
    "\n",
    "table_columns = []\n",
    "for element in table_head:\n",
    "    column_label = element.get_text(separator=\" \", strip=True)\n",
    "    column_label = column_label.replace(' ', '_')\n",
    "    column_label = regex.sub('', column_label)\n",
    "    table_columns.append(column_label)\n",
    "print(table_columns)"
   ]
  },
  {
   "cell_type": "code",
   "execution_count": 30,
   "metadata": {
    "pycharm": {
     "name": "#%%\n"
    }
   },
   "outputs": [
    {
     "name": "stdout",
     "output_type": "stream",
     "text": [
      "[<tr>\n",
      "<th>Opened\n",
      "</th>\n",
      "<th>Name\n",
      "</th>\n",
      "<th>City\n",
      "</th>\n",
      "<th>Country\n",
      "</th>\n",
      "<th>Employees\n",
      "</th>\n",
      "<th>Products\n",
      "</th>\n",
      "<th class=\"unsortable\"><abbr title=\"Reference(s)\">Ref.</abbr>\n",
      "</th></tr>, <tr>\n",
      "<td>2010\n",
      "</td>\n",
      "<td><a href=\"/wiki/Tesla_Fremont_Factory\" title=\"Tesla Fremont Factory\">Tesla Fremont Factory</a>\n",
      "</td>\n",
      "<td><a href=\"/wiki/Fremont,_California\" title=\"Fremont, California\">Fremont, California</a>\n",
      "</td>\n",
      "<td>United States\n",
      "</td>\n",
      "<td>22,000\n",
      "</td>\n",
      "<td><a href=\"/wiki/Tesla_Model_S\" title=\"Tesla Model S\">Model S</a>, <a href=\"/wiki/Tesla_Model_X\" title=\"Tesla Model X\">Model X</a>, <a href=\"/wiki/Tesla_Model_3\" title=\"Tesla Model 3\">Model 3</a>, <a href=\"/wiki/Tesla_Model_Y\" title=\"Tesla Model Y\">Model Y</a>\n",
      "</td>\n",
      "<td><sup class=\"reference\" id=\"cite_ref-Future_32-1\"><a href=\"#cite_note-Future-32\">[31]</a></sup><sup class=\"reference\" id=\"cite_ref-TC_staff_2020_222-0\"><a href=\"#cite_note-TC_staff_2020-222\">[221]</a></sup><sup class=\"reference\" id=\"cite_ref-223\"><a href=\"#cite_note-223\">[222]</a></sup>\n",
      "</td></tr>, <tr>\n",
      "<td>2016\n",
      "</td>\n",
      "<td><a href=\"/wiki/Gigafactory_Nevada\" title=\"Gigafactory Nevada\">Gigafactory Nevada</a>\n",
      "</td>\n",
      "<td><a href=\"/wiki/Storey_County,_Nevada\" title=\"Storey County, Nevada\">Storey County, Nevada</a>\n",
      "</td>\n",
      "<td>United States\n",
      "</td>\n",
      "<td>7,000\n",
      "</td>\n",
      "<td>Batteries, <a href=\"/wiki/Tesla_Powerwall\" title=\"Tesla Powerwall\">Powerwall</a>, <a href=\"/wiki/Tesla_Semi\" title=\"Tesla Semi\">Semi</a>\n",
      "</td>\n",
      "<td><sup class=\"reference\" id=\"cite_ref-Powerwall_224-0\"><a href=\"#cite_note-Powerwall-224\">[223]</a></sup><sup class=\"reference\" id=\"cite_ref-usatoday_giganevada_2019_225-0\"><a href=\"#cite_note-usatoday_giganevada_2019-225\">[224]</a></sup><sup class=\"reference\" id=\"cite_ref-226\"><a href=\"#cite_note-226\">[225]</a></sup>\n",
      "</td></tr>, <tr>\n",
      "<td>2017\n",
      "</td>\n",
      "<td><a href=\"/wiki/Gigafactory_New_York\" title=\"Gigafactory New York\">Gigafactory New York</a>\n",
      "</td>\n",
      "<td><a href=\"/wiki/Buffalo,_New_York\" title=\"Buffalo, New York\">Buffalo, New York</a>\n",
      "</td>\n",
      "<td>United States\n",
      "</td>\n",
      "<td>1,500\n",
      "</td>\n",
      "<td><a class=\"mw-redirect\" href=\"/wiki/Tesla_Solar_Roof\" title=\"Tesla Solar Roof\">Solar Roof</a>, <a href=\"/wiki/Tesla_Supercharger\" title=\"Tesla Supercharger\">Supercharger</a>\n",
      "</td>\n",
      "<td><sup class=\"reference\" id=\"cite_ref-UpAndRunning_227-0\"><a href=\"#cite_note-UpAndRunning-227\">[226]</a></sup><sup class=\"reference\" id=\"cite_ref-CT_giga2_2020_228-0\"><a href=\"#cite_note-CT_giga2_2020-228\">[227]</a></sup>\n",
      "</td></tr>, <tr>\n",
      "<td>2019\n",
      "</td>\n",
      "<td><a href=\"/wiki/Gigafactory_Shanghai\" title=\"Gigafactory Shanghai\">Gigafactory Shanghai</a>\n",
      "</td>\n",
      "<td><a href=\"/wiki/Shanghai\" title=\"Shanghai\">Shanghai</a>\n",
      "</td>\n",
      "<td>China\n",
      "</td>\n",
      "<td>20,000\n",
      "</td>\n",
      "<td>Model 3, Model Y, Supercharger\n",
      "</td>\n",
      "<td><sup class=\"reference\" id=\"cite_ref-cnbc20191023_229-0\"><a href=\"#cite_note-cnbc20191023-229\">[228]</a></sup><sup class=\"reference\" id=\"cite_ref-230\"><a href=\"#cite_note-230\">[229]</a></sup>\n",
      "</td></tr>, <tr>\n",
      "<td>2022\n",
      "</td>\n",
      "<td><a href=\"/wiki/Gigafactory_Berlin-Brandenburg\" title=\"Gigafactory Berlin-Brandenburg\">Gigafactory Berlin-Brandenburg</a>\n",
      "</td>\n",
      "<td><a href=\"/wiki/Gr%C3%BCnheide_(Mark)\" title=\"Grünheide (Mark)\">Grünheide</a>\n",
      "</td>\n",
      "<td>Germany\n",
      "</td>\n",
      "<td>10,000\n",
      "</td>\n",
      "<td>Model Y <i>(planned: batteries, Model 3)</i>\n",
      "</td>\n",
      "<td><sup class=\"reference\" id=\"cite_ref-231\"><a href=\"#cite_note-231\">[230]</a></sup><sup class=\"reference\" id=\"cite_ref-232\"><a href=\"#cite_note-232\">[231]</a></sup><sup class=\"reference\" id=\"cite_ref-IEVS_berlin_2021_233-0\"><a href=\"#cite_note-IEVS_berlin_2021-233\">[232]</a></sup>\n",
      "</td></tr>, <tr>\n",
      "<td>2022\n",
      "</td>\n",
      "<td><a href=\"/wiki/Gigafactory_Texas\" title=\"Gigafactory Texas\">Gigafactory Texas</a>\n",
      "</td>\n",
      "<td><a href=\"/wiki/Austin,_Texas\" title=\"Austin, Texas\">Austin, Texas</a>\n",
      "</td>\n",
      "<td>United States\n",
      "</td>\n",
      "<td>12,000\n",
      "</td>\n",
      "<td><a href=\"/wiki/Tesla_Cybertruck\" title=\"Tesla Cybertruck\">Cybertruck</a>, Model Y <i>(planned: batteries, <a href=\"/wiki/Tesla_next-generation_vehicle\" title=\"Tesla next-generation vehicle\">Next-gen vehicle</a>)</i>\n",
      "</td>\n",
      "<td><sup class=\"reference\" id=\"cite_ref-234\"><a href=\"#cite_note-234\">[233]</a></sup><sup class=\"reference\" id=\"cite_ref-Vorrath_235-0\"><a href=\"#cite_note-Vorrath-235\">[234]</a></sup><sup class=\"reference\" id=\"cite_ref-236\"><a href=\"#cite_note-236\">[235]</a></sup>\n",
      "</td></tr>]\n"
     ]
    }
   ],
   "source": [
    "# Extract the table data (rows)\n",
    "# End result: A multi-dimensional list containing a list for each row\n",
    "\n",
    "table_rows = full_table.select('tr')\n",
    "print(table_rows)\n"
   ]
  },
  {
   "cell_type": "code",
   "execution_count": 32,
   "metadata": {
    "pycharm": {
     "name": "#%%\n"
    }
   },
   "outputs": [
    {
     "name": "stdout",
     "output_type": "stream",
     "text": [
      "[['2010\\n', 'Tesla Fremont Factory\\n', 'Fremont, California\\n', 'United States\\n', '22,000\\n', 'Model S, Model X, Model 3, Model Y\\n', '[31][221][222]\\n'], ['2016\\n', 'Gigafactory Nevada\\n', 'Storey County, Nevada\\n', 'United States\\n', '7,000\\n', 'Batteries, Powerwall, Semi\\n', '[223][224][225]\\n'], ['2017\\n', 'Gigafactory New York\\n', 'Buffalo, New York\\n', 'United States\\n', '1,500\\n', 'Solar Roof, Supercharger\\n', '[226][227]\\n'], ['2019\\n', 'Gigafactory Shanghai\\n', 'Shanghai\\n', 'China\\n', '20,000\\n', 'Model 3, Model Y, Supercharger\\n', '[228][229]\\n'], ['2022\\n', 'Gigafactory Berlin-Brandenburg\\n', 'Grünheide\\n', 'Germany\\n', '10,000\\n', 'Model Y (planned: batteries, Model 3)\\n', '[230][231][232]\\n'], ['2022\\n', 'Gigafactory Texas\\n', 'Austin, Texas\\n', 'United States\\n', '12,000\\n', 'Cybertruck, Model Y (planned: batteries, Next-gen vehicle)\\n', '[233][234][235]\\n']]\n"
     ]
    }
   ],
   "source": [
    "# Extract the table data (rows)\n",
    "# End result: A multi-dimensional list containing a list for each row\n",
    "\n",
    "table_data = []\n",
    "for index, element in enumerate(table_rows):\n",
    "    if index > 0:\n",
    "        row_list = []\n",
    "        values = element.select('td')\n",
    "        for value in values:\n",
    "            row_list.append(value.text)\n",
    "        table_data.append(row_list)\n",
    "\n",
    "print(table_data)\n"
   ]
  },
  {
   "cell_type": "code",
   "execution_count": 33,
   "metadata": {
    "pycharm": {
     "name": "#%%\n"
    }
   },
   "outputs": [
    {
     "name": "stdout",
     "output_type": "stream",
     "text": [
      "[['2010', 'Tesla Fremont Factory', 'Fremont, California', 'United States', '22,000', 'Model S, Model X, Model 3, Model Y', '[31][221][222]'], ['2016', 'Gigafactory Nevada', 'Storey County, Nevada', 'United States', '7,000', 'Batteries, Powerwall, Semi', '[223][224][225]'], ['2017', 'Gigafactory New York', 'Buffalo, New York', 'United States', '1,500', 'Solar Roof, Supercharger', '[226][227]'], ['2019', 'Gigafactory Shanghai', 'Shanghai', 'China', '20,000', 'Model 3, Model Y, Supercharger', '[228][229]'], ['2022', 'Gigafactory Berlin-Brandenburg', 'Grünheide', 'Germany', '10,000', 'Model Y (planned: batteries, Model 3)', '[230][231][232]'], ['2022', 'Gigafactory Texas', 'Austin, Texas', 'United States', '12,000', 'Cybertruck, Model Y (planned: batteries, Next-gen vehicle)', '[233][234][235]']]\n"
     ]
    }
   ],
   "source": [
    "# Extract the table data (rows)\n",
    "# End result: A multi-dimensional list containing a list for each row\n",
    "\n",
    "# Final Iteration\n",
    "\n",
    "table_rows = full_table.select('tr')\n",
    "table_data = []\n",
    "for index, element in enumerate(table_rows):\n",
    "    if index > 0:\n",
    "        row_list = []\n",
    "        values = element.select('td')\n",
    "        for value in values:\n",
    "            row_list.append(value.text.strip())\n",
    "        table_data.append(row_list)\n",
    "\n",
    "print(table_data)\n"
   ]
  },
  {
   "cell_type": "code",
   "execution_count": 34,
   "metadata": {
    "pycharm": {
     "name": "#%%\n"
    }
   },
   "outputs": [
    {
     "data": {
      "text/html": [
       "<div>\n",
       "<style scoped>\n",
       "    .dataframe tbody tr th:only-of-type {\n",
       "        vertical-align: middle;\n",
       "    }\n",
       "\n",
       "    .dataframe tbody tr th {\n",
       "        vertical-align: top;\n",
       "    }\n",
       "\n",
       "    .dataframe thead th {\n",
       "        text-align: right;\n",
       "    }\n",
       "</style>\n",
       "<table border=\"1\" class=\"dataframe\">\n",
       "  <thead>\n",
       "    <tr style=\"text-align: right;\">\n",
       "      <th></th>\n",
       "      <th>Opened</th>\n",
       "      <th>Name</th>\n",
       "      <th>City</th>\n",
       "      <th>Country</th>\n",
       "      <th>Employees</th>\n",
       "      <th>Products</th>\n",
       "      <th>Ref.</th>\n",
       "    </tr>\n",
       "  </thead>\n",
       "  <tbody>\n",
       "    <tr>\n",
       "      <th>0</th>\n",
       "      <td>2010</td>\n",
       "      <td>Tesla Fremont Factory</td>\n",
       "      <td>Fremont, California</td>\n",
       "      <td>United States</td>\n",
       "      <td>22,000</td>\n",
       "      <td>Model S, Model X, Model 3, Model Y</td>\n",
       "      <td>[31][221][222]</td>\n",
       "    </tr>\n",
       "    <tr>\n",
       "      <th>1</th>\n",
       "      <td>2016</td>\n",
       "      <td>Gigafactory Nevada</td>\n",
       "      <td>Storey County, Nevada</td>\n",
       "      <td>United States</td>\n",
       "      <td>7,000</td>\n",
       "      <td>Batteries, Powerwall, Semi</td>\n",
       "      <td>[223][224][225]</td>\n",
       "    </tr>\n",
       "    <tr>\n",
       "      <th>2</th>\n",
       "      <td>2017</td>\n",
       "      <td>Gigafactory New York</td>\n",
       "      <td>Buffalo, New York</td>\n",
       "      <td>United States</td>\n",
       "      <td>1,500</td>\n",
       "      <td>Solar Roof, Supercharger</td>\n",
       "      <td>[226][227]</td>\n",
       "    </tr>\n",
       "    <tr>\n",
       "      <th>3</th>\n",
       "      <td>2019</td>\n",
       "      <td>Gigafactory Shanghai</td>\n",
       "      <td>Shanghai</td>\n",
       "      <td>China</td>\n",
       "      <td>20,000</td>\n",
       "      <td>Model 3, Model Y, Supercharger</td>\n",
       "      <td>[228][229]</td>\n",
       "    </tr>\n",
       "    <tr>\n",
       "      <th>4</th>\n",
       "      <td>2022</td>\n",
       "      <td>Gigafactory Berlin-Brandenburg</td>\n",
       "      <td>Grünheide</td>\n",
       "      <td>Germany</td>\n",
       "      <td>10,000</td>\n",
       "      <td>Model Y (planned: batteries, Model 3)</td>\n",
       "      <td>[230][231][232]</td>\n",
       "    </tr>\n",
       "    <tr>\n",
       "      <th>5</th>\n",
       "      <td>2022</td>\n",
       "      <td>Gigafactory Texas</td>\n",
       "      <td>Austin, Texas</td>\n",
       "      <td>United States</td>\n",
       "      <td>12,000</td>\n",
       "      <td>Cybertruck, Model Y (planned: batteries, Next-...</td>\n",
       "      <td>[233][234][235]</td>\n",
       "    </tr>\n",
       "  </tbody>\n",
       "</table>\n",
       "</div>"
      ],
      "text/plain": [
       "  Opened                            Name                   City  \\\n",
       "0   2010           Tesla Fremont Factory    Fremont, California   \n",
       "1   2016              Gigafactory Nevada  Storey County, Nevada   \n",
       "2   2017            Gigafactory New York      Buffalo, New York   \n",
       "3   2019            Gigafactory Shanghai               Shanghai   \n",
       "4   2022  Gigafactory Berlin-Brandenburg              Grünheide   \n",
       "5   2022               Gigafactory Texas          Austin, Texas   \n",
       "\n",
       "         Country Employees                                           Products  \\\n",
       "0  United States    22,000                 Model S, Model X, Model 3, Model Y   \n",
       "1  United States     7,000                         Batteries, Powerwall, Semi   \n",
       "2  United States     1,500                           Solar Roof, Supercharger   \n",
       "3          China    20,000                     Model 3, Model Y, Supercharger   \n",
       "4        Germany    10,000              Model Y (planned: batteries, Model 3)   \n",
       "5  United States    12,000  Cybertruck, Model Y (planned: batteries, Next-...   \n",
       "\n",
       "              Ref.  \n",
       "0   [31][221][222]  \n",
       "1  [223][224][225]  \n",
       "2       [226][227]  \n",
       "3       [228][229]  \n",
       "4  [230][231][232]  \n",
       "5  [233][234][235]  "
      ]
     },
     "execution_count": 34,
     "metadata": {},
     "output_type": "execute_result"
    }
   ],
   "source": [
    "# Create a Pandas DataFrame\n",
    "\n",
    "df = pd.DataFrame(table_data, columns=table_columns) \n",
    "df"
   ]
  },
  {
   "cell_type": "code",
   "execution_count": 35,
   "metadata": {
    "jupyter": {
     "outputs_hidden": true,
     "source_hidden": true
    }
   },
   "outputs": [
    {
     "name": "stdout",
     "output_type": "stream",
     "text": [
      "[<tr>\n",
      "<th>Opened\n",
      "</th>\n",
      "<th>Name\n",
      "</th>\n",
      "<th>City\n",
      "</th>\n",
      "<th>Country\n",
      "</th>\n",
      "<th>Employees\n",
      "</th>\n",
      "<th>Products\n",
      "</th>\n",
      "<th class=\"unsortable\"><abbr title=\"Reference(s)\">Ref.</abbr>\n",
      "</th></tr>, <tr>\n",
      "<td>2010\n",
      "</td>\n",
      "<td><a href=\"/wiki/Tesla_Fremont_Factory\" title=\"Tesla Fremont Factory\">Tesla Fremont Factory</a>\n",
      "</td>\n",
      "<td><a href=\"/wiki/Fremont,_California\" title=\"Fremont, California\">Fremont, California</a>\n",
      "</td>\n",
      "<td>United States\n",
      "</td>\n",
      "<td>22,000\n",
      "</td>\n",
      "<td><a href=\"/wiki/Tesla_Model_S\" title=\"Tesla Model S\">Model S</a>, <a href=\"/wiki/Tesla_Model_X\" title=\"Tesla Model X\">Model X</a>, <a href=\"/wiki/Tesla_Model_3\" title=\"Tesla Model 3\">Model 3</a>, <a href=\"/wiki/Tesla_Model_Y\" title=\"Tesla Model Y\">Model Y</a>\n",
      "</td>\n",
      "<td><sup class=\"reference\" id=\"cite_ref-Future_32-1\"><a href=\"#cite_note-Future-32\">[31]</a></sup><sup class=\"reference\" id=\"cite_ref-TC_staff_2020_222-0\"><a href=\"#cite_note-TC_staff_2020-222\">[221]</a></sup><sup class=\"reference\" id=\"cite_ref-223\"><a href=\"#cite_note-223\">[222]</a></sup>\n",
      "</td></tr>, <tr>\n",
      "<td>2016\n",
      "</td>\n",
      "<td><a href=\"/wiki/Gigafactory_Nevada\" title=\"Gigafactory Nevada\">Gigafactory Nevada</a>\n",
      "</td>\n",
      "<td><a href=\"/wiki/Storey_County,_Nevada\" title=\"Storey County, Nevada\">Storey County, Nevada</a>\n",
      "</td>\n",
      "<td>United States\n",
      "</td>\n",
      "<td>7,000\n",
      "</td>\n",
      "<td>Batteries, <a href=\"/wiki/Tesla_Powerwall\" title=\"Tesla Powerwall\">Powerwall</a>, <a href=\"/wiki/Tesla_Semi\" title=\"Tesla Semi\">Semi</a>\n",
      "</td>\n",
      "<td><sup class=\"reference\" id=\"cite_ref-Powerwall_224-0\"><a href=\"#cite_note-Powerwall-224\">[223]</a></sup><sup class=\"reference\" id=\"cite_ref-usatoday_giganevada_2019_225-0\"><a href=\"#cite_note-usatoday_giganevada_2019-225\">[224]</a></sup><sup class=\"reference\" id=\"cite_ref-226\"><a href=\"#cite_note-226\">[225]</a></sup>\n",
      "</td></tr>, <tr>\n",
      "<td>2017\n",
      "</td>\n",
      "<td><a href=\"/wiki/Gigafactory_New_York\" title=\"Gigafactory New York\">Gigafactory New York</a>\n",
      "</td>\n",
      "<td><a href=\"/wiki/Buffalo,_New_York\" title=\"Buffalo, New York\">Buffalo, New York</a>\n",
      "</td>\n",
      "<td>United States\n",
      "</td>\n",
      "<td>1,500\n",
      "</td>\n",
      "<td><a class=\"mw-redirect\" href=\"/wiki/Tesla_Solar_Roof\" title=\"Tesla Solar Roof\">Solar Roof</a>, <a href=\"/wiki/Tesla_Supercharger\" title=\"Tesla Supercharger\">Supercharger</a>\n",
      "</td>\n",
      "<td><sup class=\"reference\" id=\"cite_ref-UpAndRunning_227-0\"><a href=\"#cite_note-UpAndRunning-227\">[226]</a></sup><sup class=\"reference\" id=\"cite_ref-CT_giga2_2020_228-0\"><a href=\"#cite_note-CT_giga2_2020-228\">[227]</a></sup>\n",
      "</td></tr>, <tr>\n",
      "<td>2019\n",
      "</td>\n",
      "<td><a href=\"/wiki/Gigafactory_Shanghai\" title=\"Gigafactory Shanghai\">Gigafactory Shanghai</a>\n",
      "</td>\n",
      "<td><a href=\"/wiki/Shanghai\" title=\"Shanghai\">Shanghai</a>\n",
      "</td>\n",
      "<td>China\n",
      "</td>\n",
      "<td>20,000\n",
      "</td>\n",
      "<td>Model 3, Model Y, Supercharger\n",
      "</td>\n",
      "<td><sup class=\"reference\" id=\"cite_ref-cnbc20191023_229-0\"><a href=\"#cite_note-cnbc20191023-229\">[228]</a></sup><sup class=\"reference\" id=\"cite_ref-230\"><a href=\"#cite_note-230\">[229]</a></sup>\n",
      "</td></tr>, <tr>\n",
      "<td>2022\n",
      "</td>\n",
      "<td><a href=\"/wiki/Gigafactory_Berlin-Brandenburg\" title=\"Gigafactory Berlin-Brandenburg\">Gigafactory Berlin-Brandenburg</a>\n",
      "</td>\n",
      "<td><a href=\"/wiki/Gr%C3%BCnheide_(Mark)\" title=\"Grünheide (Mark)\">Grünheide</a>\n",
      "</td>\n",
      "<td>Germany\n",
      "</td>\n",
      "<td>10,000\n",
      "</td>\n",
      "<td>Model Y <i>(planned: batteries, Model 3)</i>\n",
      "</td>\n",
      "<td><sup class=\"reference\" id=\"cite_ref-231\"><a href=\"#cite_note-231\">[230]</a></sup><sup class=\"reference\" id=\"cite_ref-232\"><a href=\"#cite_note-232\">[231]</a></sup><sup class=\"reference\" id=\"cite_ref-IEVS_berlin_2021_233-0\"><a href=\"#cite_note-IEVS_berlin_2021-233\">[232]</a></sup>\n",
      "</td></tr>, <tr>\n",
      "<td>2022\n",
      "</td>\n",
      "<td><a href=\"/wiki/Gigafactory_Texas\" title=\"Gigafactory Texas\">Gigafactory Texas</a>\n",
      "</td>\n",
      "<td><a href=\"/wiki/Austin,_Texas\" title=\"Austin, Texas\">Austin, Texas</a>\n",
      "</td>\n",
      "<td>United States\n",
      "</td>\n",
      "<td>12,000\n",
      "</td>\n",
      "<td><a href=\"/wiki/Tesla_Cybertruck\" title=\"Tesla Cybertruck\">Cybertruck</a>, Model Y <i>(planned: batteries, <a href=\"/wiki/Tesla_next-generation_vehicle\" title=\"Tesla next-generation vehicle\">Next-gen vehicle</a>)</i>\n",
      "</td>\n",
      "<td><sup class=\"reference\" id=\"cite_ref-234\"><a href=\"#cite_note-234\">[233]</a></sup><sup class=\"reference\" id=\"cite_ref-Vorrath_235-0\"><a href=\"#cite_note-Vorrath-235\">[234]</a></sup><sup class=\"reference\" id=\"cite_ref-236\"><a href=\"#cite_note-236\">[235]</a></sup>\n",
      "</td></tr>]\n"
     ]
    }
   ],
   "source": [
    "# Extract the table data (rows)\n",
    "# End result: A multi-dimensional list containing a list for each row\n",
    "\n",
    "table_rows = full_table.select('tr')\n",
    "print(table_rows)\n"
   ]
  },
  {
   "cell_type": "code",
   "execution_count": 36,
   "metadata": {
    "jupyter": {
     "outputs_hidden": true,
     "source_hidden": true
    }
   },
   "outputs": [
    {
     "name": "stdout",
     "output_type": "stream",
     "text": [
      "[['2010\\n', 'Tesla Fremont Factory\\n', 'Fremont, California\\n', 'United States\\n', '22,000\\n', 'Model S, Model X, Model 3, Model Y\\n', '[31][221][222]\\n'], ['2016\\n', 'Gigafactory Nevada\\n', 'Storey County, Nevada\\n', 'United States\\n', '7,000\\n', 'Batteries, Powerwall, Semi\\n', '[223][224][225]\\n'], ['2017\\n', 'Gigafactory New York\\n', 'Buffalo, New York\\n', 'United States\\n', '1,500\\n', 'Solar Roof, Supercharger\\n', '[226][227]\\n'], ['2019\\n', 'Gigafactory Shanghai\\n', 'Shanghai\\n', 'China\\n', '20,000\\n', 'Model 3, Model Y, Supercharger\\n', '[228][229]\\n'], ['2022\\n', 'Gigafactory Berlin-Brandenburg\\n', 'Grünheide\\n', 'Germany\\n', '10,000\\n', 'Model Y (planned: batteries, Model 3)\\n', '[230][231][232]\\n'], ['2022\\n', 'Gigafactory Texas\\n', 'Austin, Texas\\n', 'United States\\n', '12,000\\n', 'Cybertruck, Model Y (planned: batteries, Next-gen vehicle)\\n', '[233][234][235]\\n']]\n"
     ]
    }
   ],
   "source": [
    "# Extract the table data (rows)\n",
    "# End result: A multi-dimensional list containing a list for each row\n",
    "\n",
    "# Iteration 2\n",
    "\n",
    "table_rows = full_table.select('tr')\n",
    "\n",
    "table_data = []\n",
    "for index, element in enumerate(table_rows):\n",
    "    if index > 0:\n",
    "        row_list = []\n",
    "        values = element.select('td')\n",
    "        for value in values:\n",
    "            row_list.append(value.text)\n",
    "        table_data.append(row_list)\n",
    "\n",
    "print(table_data)\n"
   ]
  },
  {
   "cell_type": "code",
   "execution_count": 37,
   "metadata": {
    "jupyter": {
     "outputs_hidden": true,
     "source_hidden": true
    }
   },
   "outputs": [
    {
     "name": "stdout",
     "output_type": "stream",
     "text": [
      "[['2010', 'Tesla Fremont Factory', 'Fremont, California', 'United States', '22,000', 'Model S, Model X, Model 3, Model Y', '[31][221][222]'], ['2016', 'Gigafactory Nevada', 'Storey County, Nevada', 'United States', '7,000', 'Batteries, Powerwall, Semi', '[223][224][225]'], ['2017', 'Gigafactory New York', 'Buffalo, New York', 'United States', '1,500', 'Solar Roof, Supercharger', '[226][227]'], ['2019', 'Gigafactory Shanghai', 'Shanghai', 'China', '20,000', 'Model 3, Model Y, Supercharger', '[228][229]'], ['2022', 'Gigafactory Berlin-Brandenburg', 'Grünheide', 'Germany', '10,000', 'Model Y (planned: batteries, Model 3)', '[230][231][232]'], ['2022', 'Gigafactory Texas', 'Austin, Texas', 'United States', '12,000', 'Cybertruck, Model Y (planned: batteries, Next-gen vehicle)', '[233][234][235]']]\n"
     ]
    }
   ],
   "source": [
    "# Extract the table data (rows)\n",
    "# End result: A multi-dimensional list containing a list for each row\n",
    "\n",
    "# Final Iteration\n",
    "\n",
    "table_rows = full_table.select('tr')\n",
    "table_data = []\n",
    "for index, element in enumerate(table_rows):\n",
    "    if index > 0:\n",
    "        row_list = []\n",
    "        values = element.select('td')\n",
    "        for value in values:\n",
    "            row_list.append(value.text.strip())\n",
    "        table_data.append(row_list)\n",
    "\n",
    "print(table_data)\n"
   ]
  },
  {
   "cell_type": "code",
   "execution_count": 38,
   "metadata": {},
   "outputs": [
    {
     "data": {
      "text/html": [
       "<div>\n",
       "<style scoped>\n",
       "    .dataframe tbody tr th:only-of-type {\n",
       "        vertical-align: middle;\n",
       "    }\n",
       "\n",
       "    .dataframe tbody tr th {\n",
       "        vertical-align: top;\n",
       "    }\n",
       "\n",
       "    .dataframe thead th {\n",
       "        text-align: right;\n",
       "    }\n",
       "</style>\n",
       "<table border=\"1\" class=\"dataframe\">\n",
       "  <thead>\n",
       "    <tr style=\"text-align: right;\">\n",
       "      <th></th>\n",
       "      <th>Opened</th>\n",
       "      <th>Name</th>\n",
       "      <th>City</th>\n",
       "      <th>Country</th>\n",
       "      <th>Employees</th>\n",
       "      <th>Products</th>\n",
       "      <th>Ref.</th>\n",
       "    </tr>\n",
       "  </thead>\n",
       "  <tbody>\n",
       "    <tr>\n",
       "      <th>0</th>\n",
       "      <td>2010</td>\n",
       "      <td>Tesla Fremont Factory</td>\n",
       "      <td>Fremont, California</td>\n",
       "      <td>United States</td>\n",
       "      <td>22,000</td>\n",
       "      <td>Model S, Model X, Model 3, Model Y</td>\n",
       "      <td>[31][221][222]</td>\n",
       "    </tr>\n",
       "    <tr>\n",
       "      <th>1</th>\n",
       "      <td>2016</td>\n",
       "      <td>Gigafactory Nevada</td>\n",
       "      <td>Storey County, Nevada</td>\n",
       "      <td>United States</td>\n",
       "      <td>7,000</td>\n",
       "      <td>Batteries, Powerwall, Semi</td>\n",
       "      <td>[223][224][225]</td>\n",
       "    </tr>\n",
       "    <tr>\n",
       "      <th>2</th>\n",
       "      <td>2017</td>\n",
       "      <td>Gigafactory New York</td>\n",
       "      <td>Buffalo, New York</td>\n",
       "      <td>United States</td>\n",
       "      <td>1,500</td>\n",
       "      <td>Solar Roof, Supercharger</td>\n",
       "      <td>[226][227]</td>\n",
       "    </tr>\n",
       "    <tr>\n",
       "      <th>3</th>\n",
       "      <td>2019</td>\n",
       "      <td>Gigafactory Shanghai</td>\n",
       "      <td>Shanghai</td>\n",
       "      <td>China</td>\n",
       "      <td>20,000</td>\n",
       "      <td>Model 3, Model Y, Supercharger</td>\n",
       "      <td>[228][229]</td>\n",
       "    </tr>\n",
       "    <tr>\n",
       "      <th>4</th>\n",
       "      <td>2022</td>\n",
       "      <td>Gigafactory Berlin-Brandenburg</td>\n",
       "      <td>Grünheide</td>\n",
       "      <td>Germany</td>\n",
       "      <td>10,000</td>\n",
       "      <td>Model Y (planned: batteries, Model 3)</td>\n",
       "      <td>[230][231][232]</td>\n",
       "    </tr>\n",
       "    <tr>\n",
       "      <th>5</th>\n",
       "      <td>2022</td>\n",
       "      <td>Gigafactory Texas</td>\n",
       "      <td>Austin, Texas</td>\n",
       "      <td>United States</td>\n",
       "      <td>12,000</td>\n",
       "      <td>Cybertruck, Model Y (planned: batteries, Next-...</td>\n",
       "      <td>[233][234][235]</td>\n",
       "    </tr>\n",
       "  </tbody>\n",
       "</table>\n",
       "</div>"
      ],
      "text/plain": [
       "  Opened                            Name                   City  \\\n",
       "0   2010           Tesla Fremont Factory    Fremont, California   \n",
       "1   2016              Gigafactory Nevada  Storey County, Nevada   \n",
       "2   2017            Gigafactory New York      Buffalo, New York   \n",
       "3   2019            Gigafactory Shanghai               Shanghai   \n",
       "4   2022  Gigafactory Berlin-Brandenburg              Grünheide   \n",
       "5   2022               Gigafactory Texas          Austin, Texas   \n",
       "\n",
       "         Country Employees                                           Products  \\\n",
       "0  United States    22,000                 Model S, Model X, Model 3, Model Y   \n",
       "1  United States     7,000                         Batteries, Powerwall, Semi   \n",
       "2  United States     1,500                           Solar Roof, Supercharger   \n",
       "3          China    20,000                     Model 3, Model Y, Supercharger   \n",
       "4        Germany    10,000              Model Y (planned: batteries, Model 3)   \n",
       "5  United States    12,000  Cybertruck, Model Y (planned: batteries, Next-...   \n",
       "\n",
       "              Ref.  \n",
       "0   [31][221][222]  \n",
       "1  [223][224][225]  \n",
       "2       [226][227]  \n",
       "3       [228][229]  \n",
       "4  [230][231][232]  \n",
       "5  [233][234][235]  "
      ]
     },
     "execution_count": 38,
     "metadata": {},
     "output_type": "execute_result"
    }
   ],
   "source": [
    "# Create a Pandas DataFrame\n",
    "\n",
    "df = pd.DataFrame(table_data, columns=table_columns) \n",
    "df"
   ]
  },
  {
   "cell_type": "code",
   "execution_count": null,
   "metadata": {},
   "outputs": [],
   "source": []
  }
 ],
 "metadata": {
  "kernelspec": {
   "display_name": "Python 3 (ipykernel)",
   "language": "python",
   "name": "python3"
  },
  "language_info": {
   "codemirror_mode": {
    "name": "ipython",
    "version": 3
   },
   "file_extension": ".py",
   "mimetype": "text/x-python",
   "name": "python",
   "nbconvert_exporter": "python",
   "pygments_lexer": "ipython3",
   "version": "3.11.0"
  },
  "pycharm": {
   "stem_cell": {
    "cell_type": "raw",
    "metadata": {
     "collapsed": false
    },
    "source": []
   }
  }
 },
 "nbformat": 4,
 "nbformat_minor": 4
}
